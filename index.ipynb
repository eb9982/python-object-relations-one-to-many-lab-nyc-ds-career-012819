{
 "cells": [
  {
   "cell_type": "markdown",
   "metadata": {},
   "source": [
    "# Python Object Relationships - One to Many"
   ]
  },
  {
   "cell_type": "markdown",
   "metadata": {},
   "source": [
    "## Introduction\n",
    "In this lab we are going to practice creating a one to many relationship. We've learned how a belongs to relationship works -- with the \"belongs to\" class knowing the one instance it is associated with. Now, what if we think about it from the other side? Let's say we are talking about a `Person` class and a `Dog` class. We know the `Dog` belongs to one `Person`, but that doesn't mean the person can't have more than one dog, right?"
   ]
  },
  {
   "cell_type": "markdown",
   "metadata": {},
   "source": [
    "![dog gif](https://s3.amazonaws.com/learn-verified/data-science-assets/two-dogs.gif)"
   ]
  },
  {
   "cell_type": "markdown",
   "metadata": {},
   "source": [
    "So, a dog still needs to know who its owner is, but now we know that an owner can also have **many** dogs. Let's get started!"
   ]
  },
  {
   "cell_type": "markdown",
   "metadata": {},
   "source": [
    "## Objectives\n",
    "* Create a one to many domain model\n",
    "* Practice querying an instance to demonstrate the one to many relationship\n",
    "* Define a second one to many domain and create instance methods that again demonstrate the one to many relationship"
   ]
  },
  {
   "cell_type": "markdown",
   "metadata": {},
   "source": [
    "## Defining Our Classes"
   ]
  },
  {
   "cell_type": "markdown",
   "metadata": {},
   "source": [
    "Let's start by defining two classes, `Owner` and `Car`. \n",
    "* An owner should be instantiated with a `name` and an `age`. \n",
    "* A car should be instantiated with a `make`, `model`, and `year`. \n",
    "* The relationship between the two classes should be such that an owner has many cars and a car belongs to an owner. It is our job to make sure our classes and instances are set up to show this. \n",
    "* Think about which class(es) also must have an `_all` class variable, and be sure to have setter and getter (read and write) instance methods for each attribute for an owner and for a car as well as a class method that returns the `_all` list."
   ]
  },
  {
   "cell_type": "code",
   "execution_count": 2,
   "metadata": {},
   "outputs": [],
   "source": [
    "class Owner(object):\n",
    "    _all = []\n",
    "    _cars = []\n",
    "    _\n",
    "    def __init__(self,name,age):\n",
    "        self.age = age\n",
    "        self.name = name\n",
    "        Owner._all.append({self.name : self.age})\n",
    "\n",
    "    def setname(self,name):\n",
    "        self.name = name\n",
    "\n",
    "    def getname(self):\n",
    "        return self.name\n",
    "\n",
    "    def setage(self, age):\n",
    "        self.age = age\n",
    "    @classmethod\n",
    "    def getall(cls):\n",
    "        return cls._all\n",
    "    \n",
    "    def addcar(self, car):\n",
    "        Owner._cars.append(car)\n",
    "    \n",
    "    def find_my_cars(self):\n",
    "        return Car._all[self.name]\n",
    "    \n",
    "class Car(object):\n",
    "        _all = {}\n",
    "        def __init__(self,make,model,year,owner):\n",
    "            self.make = make\n",
    "            self.model = model\n",
    "            self.year = year\n",
    "            self.owner = owner\n",
    "            if owner.name not in Car._all.keys():\n",
    "                Car._all[owner.name] = []\n",
    "                Car._all[owner.name].append(f'{make} {model}')\n",
    "            elif owner.name in Car._all.keys() and f'{make} {model}' not in Car._all.values():\n",
    "                Car._all[owner.name].append(f'{make} {model}')\n",
    "            else:\n",
    "                pass\n",
    "                \n",
    "        def setmake(self,make):\n",
    "            self.make = make\n",
    "        \n",
    "        def getmake(self):\n",
    "            return self.make\n",
    "        \n",
    "        def setmodel(self,model):\n",
    "            self.model = model\n",
    "        \n",
    "        def getmodel(self):\n",
    "            return self.model\n",
    "        \n",
    "        def setyear(self, year):\n",
    "            self.year = year\n",
    "        \n",
    "        def getyear(self):\n",
    "            return self.year\n",
    "        \n",
    "        @classmethod\n",
    "        def getall(cls):\n",
    "            return cls._all"
   ]
  },
  {
   "cell_type": "code",
   "execution_count": 3,
   "metadata": {},
   "outputs": [],
   "source": [
    "\n",
    "jake = Owner(\"Jake\", 25)\n",
    "jess = Owner(\"Jess\", 29)\n",
    "alexa = Owner(\"Alexa\", 33)\n",
    "pete = Owner(\"Pete\", 30)"
   ]
  },
  {
   "cell_type": "code",
   "execution_count": 4,
   "metadata": {},
   "outputs": [],
   "source": [
    "\n",
    "# create several instances of the Car class and associate them to owners. \n",
    "# remember owners can have more than one car associated with them, but a car can only have one owner\n",
    "malibu = Car(\"Chevy\", \"Malibu\", 2007, jake)\n",
    "mercury = Car(\"Saturn\", \"Mercury\", 1995, jake)\n",
    "windstar = Car(\"Ford\", \"Windstar\", 1993, jake)\n",
    "i7 = Car(\"BMW\", \"I7\", 2017, alexa)\n",
    "model_s = Car(\"Tesla\", \"Model S\", 2017, alexa)"
   ]
  },
  {
   "cell_type": "markdown",
   "metadata": {},
   "source": [
    "## Querying For Our Cars"
   ]
  },
  {
   "cell_type": "markdown",
   "metadata": {},
   "source": [
    "Okay, now that we have our classes set up, let's stat to work with them. Let's say Alexa and Pete both have several cars and it has gotten to the point that they are forgetting about some of them -- like when winter is over and you're re-discovering the bathing suits you stuffed into the abyss of your closet. Yes, Alexa and Pete are doing well for themselves.\n",
    "Since we don't want them to lose track of their cars, let's write an instance method that prints out the makes and models of each car that they own, respectively. Let's call this method `find_my_cars`. It should return a list of strings which are the name of the car's make concatenated with the car's model. (i.e. `[\"Toyota Highlander\", \"Audi Q7\", \"Jeep Wrangler\"]`)"
   ]
  },
  {
   "cell_type": "code",
   "execution_count": 5,
   "metadata": {},
   "outputs": [
    {
     "data": {
      "text/plain": [
       "['BMW I7', 'Tesla Model S']"
      ]
     },
     "execution_count": 5,
     "metadata": {},
     "output_type": "execute_result"
    }
   ],
   "source": [
    "alexa.find_my_cars()"
   ]
  },
  {
   "cell_type": "code",
   "execution_count": 17,
   "metadata": {},
   "outputs": [
    {
     "ename": "KeyError",
     "evalue": "'Pete'",
     "output_type": "error",
     "traceback": [
      "\u001b[0;31m\u001b[0m",
      "\u001b[0;31mKeyError\u001b[0mTraceback (most recent call last)",
      "\u001b[0;32m<ipython-input-17-c3e9ea3cac8e>\u001b[0m in \u001b[0;36m<module>\u001b[0;34m()\u001b[0m\n\u001b[0;32m----> 1\u001b[0;31m \u001b[0mpete\u001b[0m\u001b[0;34m.\u001b[0m\u001b[0mfind_my_cars\u001b[0m\u001b[0;34m(\u001b[0m\u001b[0;34m)\u001b[0m\u001b[0;34m\u001b[0m\u001b[0m\n\u001b[0m",
      "\u001b[0;32m<ipython-input-13-fde54c4edea5>\u001b[0m in \u001b[0;36mfind_my_cars\u001b[0;34m(self)\u001b[0m\n\u001b[1;32m     24\u001b[0m \u001b[0;34m\u001b[0m\u001b[0m\n\u001b[1;32m     25\u001b[0m     \u001b[0;32mdef\u001b[0m \u001b[0mfind_my_cars\u001b[0m\u001b[0;34m(\u001b[0m\u001b[0mself\u001b[0m\u001b[0;34m)\u001b[0m\u001b[0;34m:\u001b[0m\u001b[0;34m\u001b[0m\u001b[0m\n\u001b[0;32m---> 26\u001b[0;31m         \u001b[0;32mreturn\u001b[0m \u001b[0mCar\u001b[0m\u001b[0;34m.\u001b[0m\u001b[0m_all\u001b[0m\u001b[0;34m[\u001b[0m\u001b[0mself\u001b[0m\u001b[0;34m.\u001b[0m\u001b[0mname\u001b[0m\u001b[0;34m]\u001b[0m\u001b[0;34m\u001b[0m\u001b[0m\n\u001b[0m\u001b[1;32m     27\u001b[0m \u001b[0;34m\u001b[0m\u001b[0m\n\u001b[1;32m     28\u001b[0m \u001b[0;32mclass\u001b[0m \u001b[0mCar\u001b[0m\u001b[0;34m(\u001b[0m\u001b[0mobject\u001b[0m\u001b[0;34m)\u001b[0m\u001b[0;34m:\u001b[0m\u001b[0;34m\u001b[0m\u001b[0m\n",
      "\u001b[0;31mKeyError\u001b[0m: 'Pete'"
     ]
    }
   ],
   "source": [
    "pete.find_my_cars()"
   ]
  },
  {
   "cell_type": "markdown",
   "metadata": {},
   "source": [
    "Great work! Now, let's try this out with another domain to get even more practice. Let's work with a `Driver` and a `Trip` class. \n",
    "* The relationship between the two should be that a driver has many trips and that a trip belongs to one driver. \n",
    "* A driver should be instantiated with at least a *name* and a trip should be instantiated with at least a start and a destination (i.e. `battery park` to `central park`). \n",
    "* Remember a trip should know which **driver** it belongs to and the Trip class should keep track of all trip instances in the `_all` class variable. \n",
    "* Define the appropriate getter and setter instance methods for both the driver and trip instance objects as well as a class method, `all`, that returns the `_all` list. "
   ]
  },
  {
   "cell_type": "code",
   "execution_count": null,
   "metadata": {},
   "outputs": [],
   "source": [
    "from driver import Driver\n",
    "steve = Driver(\"Steve\")\n",
    "danielle = Driver(\"Danielle\")\n",
    "hortense = Driver(\"Hortense\")"
   ]
  },
  {
   "cell_type": "code",
   "execution_count": null,
   "metadata": {},
   "outputs": [],
   "source": [
    "from trip import Trip\n",
    "# create several instances of the Trip class and associate them to drivers. \n",
    "# remember to associate a trip with a driver"
   ]
  },
  {
   "cell_type": "markdown",
   "metadata": {},
   "source": [
    "Next, define a driver instance method that returns all the trips instance objects that a driver has given, let's call it `my_trips`. Then define an instance method that returns a list of strings that represent the trips start and end locations for each of those trips (i.e. `[home to work, work to movies]`). Let's call it `my_trip_summaries`."
   ]
  },
  {
   "cell_type": "code",
   "execution_count": null,
   "metadata": {},
   "outputs": [],
   "source": [
    "hortense.my_trips()"
   ]
  },
  {
   "cell_type": "code",
   "execution_count": null,
   "metadata": {},
   "outputs": [],
   "source": [
    "danielle.my_trips()"
   ]
  },
  {
   "cell_type": "code",
   "execution_count": null,
   "metadata": {},
   "outputs": [],
   "source": [
    "steve.my_trip_summaries()"
   ]
  },
  {
   "cell_type": "markdown",
   "metadata": {},
   "source": [
    "## Summary\n",
    "Great work! In this lab we practiced creating one to many relationships. We built on the belongs to relationship and were able to make it a bit more interesting by associating more than one instance object with another. We reinforced our knowledge by building out two different one to many domains and built intance methods that returned and operated on the one to many relationships. "
   ]
  }
 ],
 "metadata": {
  "kernelspec": {
   "display_name": "Python 3",
   "language": "python",
   "name": "python3"
  },
  "language_info": {
   "codemirror_mode": {
    "name": "ipython",
    "version": 3
   },
   "file_extension": ".py",
   "mimetype": "text/x-python",
   "name": "python",
   "nbconvert_exporter": "python",
   "pygments_lexer": "ipython3",
   "version": "3.6.6"
  }
 },
 "nbformat": 4,
 "nbformat_minor": 2
}
